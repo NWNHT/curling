{
 "cells": [
  {
   "cell_type": "code",
   "execution_count": 146,
   "metadata": {},
   "outputs": [],
   "source": [
    "import datetime\n",
    "from datetime import timedelta\n",
    "import re"
   ]
  },
  {
   "attachments": {},
   "cell_type": "markdown",
   "metadata": {},
   "source": [
    "### This takes like 40 minutes\n",
    "- Could be interesting to rewrite in Rust and see how long that takes"
   ]
  },
  {
   "cell_type": "code",
   "execution_count": 192,
   "metadata": {},
   "outputs": [
    {
     "name": "stdout",
     "output_type": "stream",
     "text": [
      "XML Conversion: \t0:00:37.057000\n",
      "Image Conversion: \t2:54:33.971000\n",
      "XML Parsing: \t\t0:00:17.608000\n",
      "Image Parsing: \t\t1:28:13.917000\n",
      "SQL Time: \t\t0:07:34.025000\n"
     ]
    }
   ],
   "source": [
    "fh = open('log.log', 'r')\n",
    "log = re.compile(r'.* (.*) - (?:INFO|DEBUG) - (.*)')\n",
    "\n",
    "time = 'a'\n",
    "cur = 0\n",
    "var = [timedelta() for _ in range(5)]\n",
    "i = 0\n",
    "loop_limit = 8306000\n",
    "while (i < loop_limit):\n",
    "\n",
    "    info = log.findall(fh.readline())\n",
    "    i += 1\n",
    "    if len(info) > 0:\n",
    "        t, m = info[0]\n",
    "    else:\n",
    "        continue\n",
    "\n",
    "    if any(m.startswith(x) for x in ['Executing', 'Creating xml', 'Creating images', 'Parsing the xml', 'Parsing the images']):\n",
    "\n",
    "        t = datetime.datetime.strptime(t, '%H:%M:%S,%f')\n",
    "        # Finish the previous section\n",
    "        if not isinstance(time, str):\n",
    "            var[cur] += (t - time)\n",
    "\n",
    "        # Note the current session and start time\n",
    "        if m.startswith('Executing'):\n",
    "            cur = 4\n",
    "            # # just loop here until a 'Found' is found\n",
    "            while((not m.startswith('Found')) and (i < loop_limit)):\n",
    "                info = log.findall(fh.readline())\n",
    "                i += 1\n",
    "                if len(info) > 0:\n",
    "                    _, m = info[0]\n",
    "                else:\n",
    "                    continue\n",
    "        elif m.startswith('Creating xml'):\n",
    "            cur = 0\n",
    "        elif m.startswith('Creating images'):\n",
    "            cur = 1\n",
    "        elif m.startswith('Parsing the xml'):\n",
    "            cur = 2\n",
    "        elif m.startswith('Parsing the images'):\n",
    "            cur = 3\n",
    "        \n",
    "        time = t\n",
    "    \n",
    "    \n",
    "print(f\"XML Conversion: \\t{var[0]}\")\n",
    "print(f\"Image Conversion: \\t{var[1]}\")\n",
    "print(f\"XML Parsing: \\t\\t{var[2]}\")\n",
    "print(f\"Image Parsing: \\t\\t{var[3]}\")\n",
    "print(f\"SQL Time: \\t\\t{var[4]}\")"
   ]
  },
  {
   "attachments": {},
   "cell_type": "markdown",
   "metadata": {},
   "source": [
    "### Percentage of time"
   ]
  },
  {
   "cell_type": "code",
   "execution_count": 206,
   "metadata": {},
   "outputs": [
    {
     "data": {
      "text/plain": [
       "[0.22767070572205045,\n",
       " 64.34995734361362,\n",
       " 0.10817998721844359,\n",
       " 32.52475428188899,\n",
       " 2.7894376815568975]"
      ]
     },
     "execution_count": 206,
     "metadata": {},
     "output_type": "execute_result"
    }
   ],
   "source": [
    "por = [y.total_seconds() * 100 / sum([x.total_seconds() for x in var]) for y in var]\n",
    "por"
   ]
  }
 ],
 "metadata": {
  "kernelspec": {
   "display_name": "env_curling",
   "language": "python",
   "name": "python3"
  },
  "language_info": {
   "codemirror_mode": {
    "name": "ipython",
    "version": 3
   },
   "file_extension": ".py",
   "mimetype": "text/x-python",
   "name": "python",
   "nbconvert_exporter": "python",
   "pygments_lexer": "ipython3",
   "version": "3.9.15 | packaged by conda-forge | (main, Nov 22 2022, 08:48:25) \n[Clang 14.0.6 ]"
  },
  "orig_nbformat": 4,
  "vscode": {
   "interpreter": {
    "hash": "a2aa951446df54d8180b399b14f484a41444e431066eb9db06f3639b27b15f04"
   }
  }
 },
 "nbformat": 4,
 "nbformat_minor": 2
}
